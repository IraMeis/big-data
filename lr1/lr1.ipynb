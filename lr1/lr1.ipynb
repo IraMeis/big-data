{
 "cells": [
  {
   "cell_type": "code",
   "execution_count": 1,
   "id": "d4823a9c-6d00-49ab-9eed-3a0e7e019a90",
   "metadata": {},
   "outputs": [],
   "source": [
    "from pyspark import SparkContext, SparkConf \n",
    "from pyspark.sql import SparkSession\n",
    "import pyspark.sql as sql\n",
    "from typing import NamedTuple\n",
    "from datetime import datetime"
   ]
  },
  {
   "cell_type": "code",
   "execution_count": 3,
   "id": "1cfeab95-7f54-45e2-8c11-e1009a9256cd",
   "metadata": {},
   "outputs": [],
   "source": [
    "conf = SparkConf().setAppName(\"lr1\").setMaster('yarn')\n",
    "sc = SparkContext(conf=conf)\n",
    "spark = SparkSession(sc)"
   ]
  },
  {
   "cell_type": "code",
   "execution_count": null,
   "id": "67a68c7f-9464-4a46-b726-0fa5e43d6765",
   "metadata": {},
   "outputs": [],
   "source": [
    "!hadoop fs -put ~/ /user"
   ]
  },
  {
   "cell_type": "code",
   "execution_count": 6,
   "id": "6af5c340-94f8-4528-80ba-37e3323b168d",
   "metadata": {},
   "outputs": [],
   "source": [
    "def initStation(stations):\n",
    "    class Station(NamedTuple):\n",
    "        station_id: int\n",
    "        name: str\n",
    "        lat: float\n",
    "        long: float\n",
    "        dockcount: int\n",
    "        landmark: str\n",
    "        installation: str\n",
    "    \n",
    "    for station in stations:\n",
    "        yield Station(\n",
    "            station_id = int(station[0]),\n",
    "            name = station[1],\n",
    "            lat = float(station[2]),\n",
    "            long = float(station[3]),\n",
    "            dockcount = int(station[4]),\n",
    "            landmark = station[5],\n",
    "            installation = datetime.strptime(station[6], '%m/%d/%Y')\n",
    "        )\n",
    "\n",
    "def initTrip(trips):\n",
    "    class Trip(NamedTuple):\n",
    "        trip_id: int\n",
    "        duration: int\n",
    "        start_date: datetime\n",
    "        start_station_name: str\n",
    "        start_station_id: int\n",
    "        end_date: datetime\n",
    "        end_station_name: str\n",
    "        end_station_id: int\n",
    "        bike_id: int\n",
    "        subscription_type: str\n",
    "        zip_code: str\n",
    "        \n",
    "    for trip in trips:\n",
    "        try:\n",
    "            yield Trip(                             \n",
    "             trip_id = int(trip[0]),\n",
    "             duration = int(trip[1]),\n",
    "             start_date = datetime.strptime(trip[2], '%m/%d/%Y %H:%M'),\n",
    "             start_station_name = trip[3],\n",
    "             start_station_id = int(trip[4]),\n",
    "             end_date = datetime.strptime(trip[5], '%m/%d/%Y %H:%M'),\n",
    "             end_station_name = trip[6],\n",
    "             end_station_id = trip[7],\n",
    "             bike_id = int(trip[8]),\n",
    "             subscription_type = trip[9],\n",
    "             zip_code = trip[10]\n",
    "            ) \n",
    "        except:\n",
    "            pass"
   ]
  },
  {
   "cell_type": "code",
   "execution_count": 19,
   "id": "2dae5266-bcc4-4a0b-b8fa-af2876dcd1e7",
   "metadata": {},
   "outputs": [],
   "source": [
    "trip = sc.textFile(\"lr1/trip.csv\")\n",
    "station = sc.textFile(\"lr1/station.csv\")"
   ]
  },
  {
   "cell_type": "code",
   "execution_count": 20,
   "id": "13dafe31-f281-4c23-87e7-0bc2701a02ee",
   "metadata": {},
   "outputs": [
    {
     "data": {
      "text/plain": [
       "['id,duration,start_date,start_station_name,start_station_id,end_date,end_station_name,end_station_id,bike_id,subscription_type,zip_code',\n",
       " '4576,63,8/29/2013 14:13,South Van Ness at Market,66,8/29/2013 14:14,South Van Ness at Market,66,520,Subscriber,94127',\n",
       " '4607,70,8/29/2013 14:42,San Jose City Hall,10,8/29/2013 14:43,San Jose City Hall,10,661,Subscriber,95138',\n",
       " '4130,71,8/29/2013 10:16,Mountain View City Hall,27,8/29/2013 10:17,Mountain View City Hall,27,48,Subscriber,97214',\n",
       " '4251,77,8/29/2013 11:29,San Jose City Hall,10,8/29/2013 11:30,San Jose City Hall,10,26,Subscriber,95060']"
      ]
     },
     "execution_count": 20,
     "metadata": {},
     "output_type": "execute_result"
    }
   ],
   "source": [
    "# kinda ls\n",
    "trip.take(5)"
   ]
  },
  {
   "cell_type": "code",
   "execution_count": 23,
   "id": "de5a3fa6-8813-47ff-9c69-3ef1194bfd94",
   "metadata": {},
   "outputs": [],
   "source": [
    "# filtering for map\n",
    "trip_header=trip.first()\n",
    "station_header=station.first()\n",
    "trip=trip.filter(lambda x: x != trip_header).map(lambda x: x.split(\",\"))\n",
    "station=station.filter(lambda x: x != station_header).map(lambda x: x.split(\",\"))"
   ]
  },
  {
   "cell_type": "code",
   "execution_count": 24,
   "id": "c3745eeb-5d66-4e52-8fe9-fd751cab9073",
   "metadata": {},
   "outputs": [],
   "source": [
    "trip_mp = trip.mapPartitions(initTrip)\n",
    "station_mp = station.mapPartitions(initStation)"
   ]
  },
  {
   "cell_type": "code",
   "execution_count": 25,
   "id": "283f11df-302f-4b36-9271-df5a0bf97537",
   "metadata": {},
   "outputs": [
    {
     "data": {
      "text/plain": [
       "Trip(trip_id=4576, duration=63, start_date=datetime.datetime(2013, 8, 29, 14, 13), start_station_name='South Van Ness at Market', start_station_id=66, end_date=datetime.datetime(2013, 8, 29, 14, 14), end_station_name='South Van Ness at Market', end_station_id='66', bike_id=520, subscription_type='Subscriber', zip_code='94127')"
      ]
     },
     "execution_count": 25,
     "metadata": {},
     "output_type": "execute_result"
    }
   ],
   "source": [
    "trip_mp.first()"
   ]
  },
  {
   "cell_type": "code",
   "execution_count": null,
   "id": "0517813e-702a-4770-b24f-d8e28c9d48ad",
   "metadata": {},
   "outputs": [],
   "source": [
    "\"\"\"\n",
    "Найти велосипед с максимальным временем пробега.\n",
    "\"\"\""
   ]
  },
  {
   "cell_type": "code",
   "execution_count": 30,
   "id": "71026b1c-f5e9-47d4-97bb-0d8608ca377d",
   "metadata": {},
   "outputs": [
    {
     "data": {
      "text/plain": [
       "535"
      ]
     },
     "execution_count": 30,
     "metadata": {},
     "output_type": "execute_result"
    }
   ],
   "source": [
    "bike_max_time = trip_mp \\\n",
    ".map(lambda trip: (trip.bike_id, trip.duration)) \\\n",
    ".reduceByKey(lambda a, b: a + b) \\\n",
    ".top(1, key = lambda x: x[1])[0][0]\n",
    "\n",
    "bike_max_time"
   ]
  },
  {
   "cell_type": "code",
   "execution_count": null,
   "id": "990223fd-3a89-4697-a634-2d3ee8c034b2",
   "metadata": {},
   "outputs": [],
   "source": [
    "\"\"\"\n",
    "Найти наибольшее геодезическое расстояние между станциями.\n",
    "\"\"\""
   ]
  },
  {
   "cell_type": "code",
   "execution_count": 29,
   "id": "84408d24-8b62-45b4-988a-7cfe2f1c4e1e",
   "metadata": {},
   "outputs": [
    {
     "data": {
      "text/plain": [
       "[(229914.0, (26, '16'))]"
      ]
     },
     "execution_count": 29,
     "metadata": {},
     "output_type": "execute_result"
    }
   ],
   "source": [
    "trips2stations = trip_mp \\\n",
    ".filter(lambda trip: trip.start_station_id != trip.end_station_id) \\\n",
    ".keyBy(lambda trip: (trip.start_station_id, trip.end_station_id)) \\\n",
    ".mapValues(lambda trip: trip.duration)\n",
    "\n",
    "query = trips2stations \\\n",
    ".aggregateByKey((0.0, 0.0), \\\n",
    "                lambda acc, value: (acc[0] + value, acc[1] + 1), \\\n",
    "                lambda acc1, acc2: (acc1[0] + acc2[0], acc1[1] + acc2[1]),) \\\n",
    ".mapValues(lambda values: values[0] / values[1])\n",
    "\n",
    "query.map(lambda x: x[::-1]).top(1)"
   ]
  },
  {
   "cell_type": "code",
   "execution_count": null,
   "id": "56b178f7-e845-415c-8040-08ef97768a39",
   "metadata": {},
   "outputs": [],
   "source": [
    "\"\"\"\n",
    "Найти путь велосипеда с максимальным временем пробега через станции.\n",
    "\"\"\""
   ]
  },
  {
   "cell_type": "code",
   "execution_count": 32,
   "id": "e1dc6de4-4ce3-42a5-a6ed-ebce06ae3c10",
   "metadata": {},
   "outputs": [
    {
     "data": {
      "text/plain": [
       "('Post at Kearney', 'San Francisco Caltrain (Townsend at 4th)')"
      ]
     },
     "execution_count": 32,
     "metadata": {},
     "output_type": "execute_result"
    }
   ],
   "source": [
    "result = trip_mp \\\n",
    ".filter(lambda x: x.bike_id == bike_max_time) \\\n",
    ".sortBy(lambda x: x.start_date) \\\n",
    ".map(lambda x: (x.start_station_name, x.end_station_name)) \\\n",
    ".first() \n",
    "\n",
    "result"
   ]
  },
  {
   "cell_type": "code",
   "execution_count": null,
   "id": "1ac74aa7-c53d-47e7-a8c4-fed81138df1d",
   "metadata": {},
   "outputs": [],
   "source": [
    "\"\"\"\n",
    "Найти количество велосипедов в системе.\n",
    "\"\"\""
   ]
  },
  {
   "cell_type": "code",
   "execution_count": 34,
   "id": "d83f1f7b-1672-4da4-b8c1-1d4f3e95ece2",
   "metadata": {},
   "outputs": [
    {
     "data": {
      "text/plain": [
       "700"
      ]
     },
     "execution_count": 34,
     "metadata": {},
     "output_type": "execute_result"
    }
   ],
   "source": [
    "amount = trip_mp \\\n",
    ".map(lambda x: x.bike_id) \\\n",
    ".distinct() \\\n",
    ".count()\n",
    "\n",
    "amount"
   ]
  },
  {
   "cell_type": "code",
   "execution_count": null,
   "id": "53a4b116-d98c-4eb5-96c2-e580799c4f34",
   "metadata": {},
   "outputs": [],
   "source": [
    "\"\"\"\n",
    "Найти пользователей потративших на поездки более 3 часов.\n",
    "\"\"\""
   ]
  },
  {
   "cell_type": "code",
   "execution_count": 38,
   "id": "f1b9a59e-d4c9-4d04-9425-29d8471dbbd1",
   "metadata": {},
   "outputs": [
    {
     "data": {
      "text/plain": [
       "['94306', '49423', '49721']"
      ]
     },
     "execution_count": 38,
     "metadata": {},
     "output_type": "execute_result"
    }
   ],
   "source": [
    "users3h = trip_mp \\\n",
    ".filter(lambda x: x.duration > (3 * 60 * 60)) \\\n",
    ".map(lambda x: x.zip_code) \\\n",
    ".filter(lambda x: x != \"\") \\\n",
    ".distinct() \n",
    "\n",
    "users3h.take(3)"
   ]
  },
  {
   "cell_type": "code",
   "execution_count": null,
   "id": "b5ad6878-8ea9-4082-a9db-87f49a86cbd0",
   "metadata": {},
   "outputs": [],
   "source": []
  }
 ],
 "metadata": {
  "kernelspec": {
   "display_name": "Python [conda env:root] *",
   "language": "python",
   "name": "conda-root-py"
  },
  "language_info": {
   "codemirror_mode": {
    "name": "ipython",
    "version": 3
   },
   "file_extension": ".py",
   "mimetype": "text/x-python",
   "name": "python",
   "nbconvert_exporter": "python",
   "pygments_lexer": "ipython3",
   "version": "3.9.5"
  }
 },
 "nbformat": 4,
 "nbformat_minor": 5
}
